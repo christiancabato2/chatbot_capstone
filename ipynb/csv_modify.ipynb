{
 "cells": [
  {
   "cell_type": "code",
   "execution_count": 3,
   "source": [
    "#!pip install pandas \r\n",
    "#!pip install numpy\r\n",
    "\r\n",
    "import pandas as pd\r\n",
    "import numpy as np"
   ],
   "outputs": [],
   "metadata": {}
  },
  {
   "cell_type": "code",
   "execution_count": 54,
   "source": [
    "majors = pd.read_csv(\"../data/csv/majors.csv\")"
   ],
   "outputs": [],
   "metadata": {}
  },
  {
   "cell_type": "code",
   "execution_count": 77,
   "source": [
    "#majors\r\n"
   ],
   "outputs": [],
   "metadata": {}
  },
  {
   "cell_type": "code",
   "execution_count": 55,
   "source": [
    "majors.drop(list(majors)[4:35], axis=1, inplace=True)"
   ],
   "outputs": [],
   "metadata": {}
  },
  {
   "cell_type": "code",
   "execution_count": 79,
   "source": [
    "majors"
   ],
   "outputs": [
    {
     "output_type": "execute_result",
     "data": {
      "text/plain": [
       "     type     id                              name    cp\n",
       "0     cbk  90417  Switzerland Language and Culture  32.0\n",
       "1     cbk  90480      Chinese Language and Culture  32.0\n",
       "2     cbk  90481     Japanese Language and Culture  32.0\n",
       "3     cbk  90483       French Language and Culture  32.0\n",
       "4     cbk  90484      Spanish Language and Culture  32.0\n",
       "...   ...    ...                               ...   ...\n",
       "1318  NaN  97808     Italian Language and the Arts   8.0\n",
       "1319  NaN  99021  International Exchange Subject 1   6.0\n",
       "1320  NaN  99022  International Exchange Subject 2   6.0\n",
       "1321  NaN  99023  International Exchange Subject 3   6.0\n",
       "1322  NaN  99024  International Exchange Subject 4   6.0\n",
       "\n",
       "[1323 rows x 4 columns]"
      ],
      "text/html": [
       "<div>\n",
       "<style scoped>\n",
       "    .dataframe tbody tr th:only-of-type {\n",
       "        vertical-align: middle;\n",
       "    }\n",
       "\n",
       "    .dataframe tbody tr th {\n",
       "        vertical-align: top;\n",
       "    }\n",
       "\n",
       "    .dataframe thead th {\n",
       "        text-align: right;\n",
       "    }\n",
       "</style>\n",
       "<table border=\"1\" class=\"dataframe\">\n",
       "  <thead>\n",
       "    <tr style=\"text-align: right;\">\n",
       "      <th></th>\n",
       "      <th>type</th>\n",
       "      <th>id</th>\n",
       "      <th>name</th>\n",
       "      <th>cp</th>\n",
       "    </tr>\n",
       "  </thead>\n",
       "  <tbody>\n",
       "    <tr>\n",
       "      <th>0</th>\n",
       "      <td>cbk</td>\n",
       "      <td>90417</td>\n",
       "      <td>Switzerland Language and Culture</td>\n",
       "      <td>32.0</td>\n",
       "    </tr>\n",
       "    <tr>\n",
       "      <th>1</th>\n",
       "      <td>cbk</td>\n",
       "      <td>90480</td>\n",
       "      <td>Chinese Language and Culture</td>\n",
       "      <td>32.0</td>\n",
       "    </tr>\n",
       "    <tr>\n",
       "      <th>2</th>\n",
       "      <td>cbk</td>\n",
       "      <td>90481</td>\n",
       "      <td>Japanese Language and Culture</td>\n",
       "      <td>32.0</td>\n",
       "    </tr>\n",
       "    <tr>\n",
       "      <th>3</th>\n",
       "      <td>cbk</td>\n",
       "      <td>90483</td>\n",
       "      <td>French Language and Culture</td>\n",
       "      <td>32.0</td>\n",
       "    </tr>\n",
       "    <tr>\n",
       "      <th>4</th>\n",
       "      <td>cbk</td>\n",
       "      <td>90484</td>\n",
       "      <td>Spanish Language and Culture</td>\n",
       "      <td>32.0</td>\n",
       "    </tr>\n",
       "    <tr>\n",
       "      <th>...</th>\n",
       "      <td>...</td>\n",
       "      <td>...</td>\n",
       "      <td>...</td>\n",
       "      <td>...</td>\n",
       "    </tr>\n",
       "    <tr>\n",
       "      <th>1318</th>\n",
       "      <td>NaN</td>\n",
       "      <td>97808</td>\n",
       "      <td>Italian Language and the Arts</td>\n",
       "      <td>8.0</td>\n",
       "    </tr>\n",
       "    <tr>\n",
       "      <th>1319</th>\n",
       "      <td>NaN</td>\n",
       "      <td>99021</td>\n",
       "      <td>International Exchange Subject 1</td>\n",
       "      <td>6.0</td>\n",
       "    </tr>\n",
       "    <tr>\n",
       "      <th>1320</th>\n",
       "      <td>NaN</td>\n",
       "      <td>99022</td>\n",
       "      <td>International Exchange Subject 2</td>\n",
       "      <td>6.0</td>\n",
       "    </tr>\n",
       "    <tr>\n",
       "      <th>1321</th>\n",
       "      <td>NaN</td>\n",
       "      <td>99023</td>\n",
       "      <td>International Exchange Subject 3</td>\n",
       "      <td>6.0</td>\n",
       "    </tr>\n",
       "    <tr>\n",
       "      <th>1322</th>\n",
       "      <td>NaN</td>\n",
       "      <td>99024</td>\n",
       "      <td>International Exchange Subject 4</td>\n",
       "      <td>6.0</td>\n",
       "    </tr>\n",
       "  </tbody>\n",
       "</table>\n",
       "<p>1323 rows × 4 columns</p>\n",
       "</div>"
      ]
     },
     "metadata": {},
     "execution_count": 79
    }
   ],
   "metadata": {}
  },
  {
   "cell_type": "code",
   "execution_count": 56,
   "source": [
    "majors = majors.reindex(columns=[\"id\",\"name\",\"type\",\"cp\"])\r\n",
    "majors.set_index('id')"
   ],
   "outputs": [
    {
     "output_type": "execute_result",
     "data": {
      "text/plain": [
       "                                   name type    cp\n",
       "id                                                \n",
       "90417  Switzerland Language and Culture  cbk  32.0\n",
       "90480      Chinese Language and Culture  cbk  32.0\n",
       "90481     Japanese Language and Culture  cbk  32.0\n",
       "90483       French Language and Culture  cbk  32.0\n",
       "90484      Spanish Language and Culture  cbk  32.0\n",
       "...                                 ...  ...   ...\n",
       "97808     Italian Language and the Arts  NaN   8.0\n",
       "99021  International Exchange Subject 1  NaN   6.0\n",
       "99022  International Exchange Subject 2  NaN   6.0\n",
       "99023  International Exchange Subject 3  NaN   6.0\n",
       "99024  International Exchange Subject 4  NaN   6.0\n",
       "\n",
       "[1323 rows x 3 columns]"
      ],
      "text/html": [
       "<div>\n",
       "<style scoped>\n",
       "    .dataframe tbody tr th:only-of-type {\n",
       "        vertical-align: middle;\n",
       "    }\n",
       "\n",
       "    .dataframe tbody tr th {\n",
       "        vertical-align: top;\n",
       "    }\n",
       "\n",
       "    .dataframe thead th {\n",
       "        text-align: right;\n",
       "    }\n",
       "</style>\n",
       "<table border=\"1\" class=\"dataframe\">\n",
       "  <thead>\n",
       "    <tr style=\"text-align: right;\">\n",
       "      <th></th>\n",
       "      <th>name</th>\n",
       "      <th>type</th>\n",
       "      <th>cp</th>\n",
       "    </tr>\n",
       "    <tr>\n",
       "      <th>id</th>\n",
       "      <th></th>\n",
       "      <th></th>\n",
       "      <th></th>\n",
       "    </tr>\n",
       "  </thead>\n",
       "  <tbody>\n",
       "    <tr>\n",
       "      <th>90417</th>\n",
       "      <td>Switzerland Language and Culture</td>\n",
       "      <td>cbk</td>\n",
       "      <td>32.0</td>\n",
       "    </tr>\n",
       "    <tr>\n",
       "      <th>90480</th>\n",
       "      <td>Chinese Language and Culture</td>\n",
       "      <td>cbk</td>\n",
       "      <td>32.0</td>\n",
       "    </tr>\n",
       "    <tr>\n",
       "      <th>90481</th>\n",
       "      <td>Japanese Language and Culture</td>\n",
       "      <td>cbk</td>\n",
       "      <td>32.0</td>\n",
       "    </tr>\n",
       "    <tr>\n",
       "      <th>90483</th>\n",
       "      <td>French Language and Culture</td>\n",
       "      <td>cbk</td>\n",
       "      <td>32.0</td>\n",
       "    </tr>\n",
       "    <tr>\n",
       "      <th>90484</th>\n",
       "      <td>Spanish Language and Culture</td>\n",
       "      <td>cbk</td>\n",
       "      <td>32.0</td>\n",
       "    </tr>\n",
       "    <tr>\n",
       "      <th>...</th>\n",
       "      <td>...</td>\n",
       "      <td>...</td>\n",
       "      <td>...</td>\n",
       "    </tr>\n",
       "    <tr>\n",
       "      <th>97808</th>\n",
       "      <td>Italian Language and the Arts</td>\n",
       "      <td>NaN</td>\n",
       "      <td>8.0</td>\n",
       "    </tr>\n",
       "    <tr>\n",
       "      <th>99021</th>\n",
       "      <td>International Exchange Subject 1</td>\n",
       "      <td>NaN</td>\n",
       "      <td>6.0</td>\n",
       "    </tr>\n",
       "    <tr>\n",
       "      <th>99022</th>\n",
       "      <td>International Exchange Subject 2</td>\n",
       "      <td>NaN</td>\n",
       "      <td>6.0</td>\n",
       "    </tr>\n",
       "    <tr>\n",
       "      <th>99023</th>\n",
       "      <td>International Exchange Subject 3</td>\n",
       "      <td>NaN</td>\n",
       "      <td>6.0</td>\n",
       "    </tr>\n",
       "    <tr>\n",
       "      <th>99024</th>\n",
       "      <td>International Exchange Subject 4</td>\n",
       "      <td>NaN</td>\n",
       "      <td>6.0</td>\n",
       "    </tr>\n",
       "  </tbody>\n",
       "</table>\n",
       "<p>1323 rows × 3 columns</p>\n",
       "</div>"
      ]
     },
     "metadata": {},
     "execution_count": 56
    }
   ],
   "metadata": {}
  },
  {
   "cell_type": "code",
   "execution_count": 57,
   "source": [
    "majors.to_csv(\"../data/csv/sub_structures.csv\", sep=',', index=False)"
   ],
   "outputs": [],
   "metadata": {}
  },
  {
   "cell_type": "code",
   "execution_count": 119,
   "source": [
    "#items = pd.read_csv(\"../data/csv/sub_structures.csv\", names=['id','name','type','cp'])\r\n",
    "items = pd.read_csv(\"../data/csv/sub_structures.csv\")"
   ],
   "outputs": [],
   "metadata": {}
  },
  {
   "cell_type": "markdown",
   "source": [
    "items.values[0][0]"
   ],
   "metadata": {}
  },
  {
   "cell_type": "code",
   "execution_count": 120,
   "source": [
    "#items\r\n",
    "items.loc[items.type == 'cbk', 'id'] = 'cbk' + items.id\r\n",
    "items.loc[items.type == 'maj', 'id'] = 'maj0' + items.id\r\n",
    "items.loc[items.type == 'smj', 'id'] = 'smj0' + items.id\r\n",
    "items.loc[items.type == 'stm', 'id'] = 'stm' + items.id\r\n",
    "\r\n",
    "        "
   ],
   "outputs": [],
   "metadata": {}
  },
  {
   "cell_type": "code",
   "execution_count": 125,
   "source": [
    "items.values[50]"
   ],
   "outputs": [
    {
     "output_type": "execute_result",
     "data": {
      "text/plain": [
       "array(['maj08446', 'Human Resource Management', 'maj', nan], dtype=object)"
      ]
     },
     "metadata": {},
     "execution_count": 125
    }
   ],
   "metadata": {}
  },
  {
   "cell_type": "code",
   "execution_count": 126,
   "source": [
    "items.to_csv(\"../data/csv/sub_structures.csv\", sep=',', index=False)"
   ],
   "outputs": [],
   "metadata": {}
  },
  {
   "cell_type": "code",
   "execution_count": null,
   "source": [],
   "outputs": [],
   "metadata": {}
  }
 ],
 "metadata": {
  "kernelspec": {
   "name": "python3",
   "display_name": "Python 3.6.2 64-bit"
  },
  "language_info": {
   "codemirror_mode": {
    "name": "ipython",
    "version": 3
   },
   "file_extension": ".py",
   "mimetype": "text/x-python",
   "name": "python",
   "nbconvert_exporter": "python",
   "pygments_lexer": "ipython3",
   "version": "3.6.2"
  },
  "interpreter": {
   "hash": "fa7b7b14724a16ec199d949447e3f17860105dabc6179d01259782646ac6fe93"
  }
 },
 "nbformat": 4,
 "nbformat_minor": 5
}