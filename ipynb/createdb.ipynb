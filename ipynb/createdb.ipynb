{
 "cells": [
  {
   "cell_type": "code",
   "execution_count": 12,
   "source": [
    "import sqlite3\r\n",
    "from sqlite3 import Error"
   ],
   "outputs": [],
   "metadata": {}
  },
  {
   "cell_type": "code",
   "execution_count": 13,
   "source": [
    "def create_connection(db_file):\r\n",
    "    \"\"\" create a database connection to the SQLite database\r\n",
    "        specified by the db_file\r\n",
    "    :param db_file: database file\r\n",
    "    :return: Connection object or None\r\n",
    "    \"\"\"\r\n",
    "    conn = None\r\n",
    "    try:\r\n",
    "        conn = sqlite3.connect(db_file)\r\n",
    "    except Error as e:\r\n",
    "        print(e)\r\n",
    "\r\n",
    "    return conn"
   ],
   "outputs": [],
   "metadata": {}
  },
  {
   "cell_type": "code",
   "execution_count": 14,
   "source": [
    "def create_table(conn, create_table_sql):\r\n",
    "    \"\"\" create a table from the create_table_sql statement\r\n",
    "    :param conn: Connection object\r\n",
    "    :param create_table_sql: a CREATE TABLE statement\r\n",
    "    :return:\r\n",
    "    \"\"\"\r\n",
    "    try:\r\n",
    "        c = conn.cursor()\r\n",
    "        c.execute(create_table_sql)\r\n",
    "    except Error as e:\r\n",
    "        print(e)"
   ],
   "outputs": [],
   "metadata": {}
  },
  {
   "cell_type": "code",
   "execution_count": 15,
   "source": [
    "def main():\r\n",
    "    database = r\"../uts.db\"\r\n",
    "\r\n",
    "    sql_create_courses_table = \"\"\" CREATE TABLE IF NOT EXISTS courses (\r\n",
    "                                        id text PRIMARY KEY,\r\n",
    "                                        name text NOT NULL,\r\n",
    "                                        atar integer,\r\n",
    "                                        hons integer NOT NULL,\r\n",
    "                                        prof_prac integer NOT NULL,\r\n",
    "                                        combined integer NOT NULL,\r\n",
    "                                        location text,\r\n",
    "                                        cp integer\r\n",
    "                                    ); \"\"\"\r\n",
    "    \r\n",
    "    sql_create_substruc_table = \"\"\"CREATE TABLE IF NOT EXISTS sub_structures (\r\n",
    "                                    id text PRIMARY KEY,\r\n",
    "                                    name text NOT NULL,\r\n",
    "                                    type text NOT NULL,\r\n",
    "                                    cp integer\r\n",
    "                                );\"\"\"\r\n",
    "\r\n",
    "    sql_create_relations_table = \"\"\"CREATE TABLE IF NOT EXISTS relations (\r\n",
    "                                    course_id text NOT NULL,\r\n",
    "                                    struc_id text NOT NULL,\r\n",
    "                                    FOREIGN KEY (course_id) REFERENCES courses (id),\r\n",
    "                                    FOREIGN KEY (struc_id) REFERENCES sub_structures (id)\r\n",
    "                                );\"\"\"\r\n",
    "    #sql_create_altnames_table = \"\"\" CREATE TABLE IF NOT EXISTS altnames (\r\n",
    "    #                                    id text PRIMARY KEY,\r\n",
    "    #                                    name text NOT NULL,\r\n",
    "    #                                    course_id integer NOT NULL,\r\n",
    "    #                                    items_id integer NOT NULL,\r\n",
    "    #                                    FOREIGN KEY (course_id) REFERENCES courses (course_id)\r\n",
    "    #                                    FOREIGN KEY (items_id) REFERENCES items (items_id)\r\n",
    "    #                                ); \"\"\"\r\n",
    "\r\n",
    "    # create a database connection\r\n",
    "    conn = create_connection(database)\r\n",
    "\r\n",
    "    # create tables\r\n",
    "    if conn is not None:\r\n",
    "        # create courses table\r\n",
    "        create_table(conn, sql_create_courses_table)\r\n",
    "\r\n",
    "        # create sub-structures table\r\n",
    "        create_table(conn, sql_create_substruc_table)\r\n",
    "\r\n",
    "        # create relations table\r\n",
    "        create_table(conn, sql_create_relations_table)\r\n",
    "    \r\n",
    "    else:\r\n",
    "        print(\"Error! cannot create the database connection.\")"
   ],
   "outputs": [],
   "metadata": {}
  },
  {
   "cell_type": "code",
   "execution_count": 16,
   "source": [
    "if __name__ == '__main__':\r\n",
    "    main()\r\n",
    "    print(\"Success.\")"
   ],
   "outputs": [
    {
     "output_type": "stream",
     "name": "stdout",
     "text": [
      "Success.\n"
     ]
    }
   ],
   "metadata": {}
  },
  {
   "cell_type": "code",
   "execution_count": null,
   "source": [
    "# To insert courses information, head to sqlite3 terminal and:\r\n",
    "# sqlite3 uts.db\r\n",
    "# .mode csv\r\n",
    "# .import data/csv/courses3.csv courses\r\n",
    "# .import data/csv/sub_structures.csv sub_structures\r\n",
    "# .import data/csv/relations.csv relations \r\n",
    "\r\n",
    "#To view in readable structure:\r\n",
    "# .header on\r\n",
    "# .mode column\r\n",
    "# SELECT * FROM courses;"
   ],
   "outputs": [],
   "metadata": {}
  }
 ],
 "metadata": {
  "kernelspec": {
   "name": "python3",
   "display_name": "Python 3.6.2 64-bit"
  },
  "language_info": {
   "codemirror_mode": {
    "name": "ipython",
    "version": 3
   },
   "file_extension": ".py",
   "mimetype": "text/x-python",
   "name": "python",
   "nbconvert_exporter": "python",
   "pygments_lexer": "ipython3",
   "version": "3.6.2"
  },
  "metadata": {
   "interpreter": {
    "hash": "fa7b7b14724a16ec199d949447e3f17860105dabc6179d01259782646ac6fe93"
   }
  },
  "orig_nbformat": 2,
  "interpreter": {
   "hash": "fa7b7b14724a16ec199d949447e3f17860105dabc6179d01259782646ac6fe93"
  }
 },
 "nbformat": 4,
 "nbformat_minor": 2
}