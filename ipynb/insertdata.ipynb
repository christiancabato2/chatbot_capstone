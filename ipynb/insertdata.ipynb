{
    "cells": [
        {
            "cell_type": "code",
            "execution_count": 4,
            "source": [
                "# THIS IS A TEST SCRIPT FOR INSERTING DATA\r\n",
                "import sqlite3\r\n",
                "from sqlite3 import Error"
            ],
            "outputs": [],
            "metadata": {}
        },
        {
            "cell_type": "code",
            "execution_count": 5,
            "source": [
                "def create_connection(db_file):\r\n",
                "    \"\"\" create a database connection to the SQLite database\r\n",
                "        specified by db_file\r\n",
                "    :param db_file: database file\r\n",
                "    :return: Connection object or None\r\n",
                "    \"\"\"\r\n",
                "    conn = None\r\n",
                "    try:\r\n",
                "        conn = sqlite3.connect(db_file)\r\n",
                "    except Error as e:\r\n",
                "        print(e)\r\n",
                "\r\n",
                "    return conn"
            ],
            "outputs": [],
            "metadata": {}
        },
        {
            "cell_type": "code",
            "execution_count": 6,
            "source": [
                "def create_courses(conn, courses):\r\n",
                "    \"\"\"\r\n",
                "    Create a new project into the courses table\r\n",
                "    :param conn:\r\n",
                "    :param courses:\r\n",
                "    :return: courses id\r\n",
                "    \"\"\"\r\n",
                "    sql = ''' INSERT INTO courses(course_id,name,atar,hons,prof_prac,combined,location)\r\n",
                "              VALUES(?,?,?,?,?,?,?) '''\r\n",
                "    cur = conn.cursor()\r\n",
                "    cur.execute(sql, courses)\r\n",
                "    conn.commit()\r\n",
                "    return cur.lastrowid"
            ],
            "outputs": [],
            "metadata": {}
        },
        {
            "cell_type": "code",
            "execution_count": null,
            "source": [
                "def create_items(conn, items):\r\n",
                "    \"\"\"\r\n",
                "    Create a new project into the courses table\r\n",
                "    :param conn:\r\n",
                "    :param items:\r\n",
                "    :return: items id\r\n",
                "    \"\"\"\r\n",
                "    sql = ''' INSERT INTO items(name,begin_date,end_date)\r\n",
                "              VALUES(?,?,?) '''\r\n",
                "    cur = conn.cursor()\r\n",
                "    cur.execute(sql, items)\r\n",
                "    conn.commit()\r\n",
                "    return cur.lastrowid"
            ],
            "outputs": [],
            "metadata": {}
        },
        {
            "cell_type": "code",
            "execution_count": null,
            "source": [
                "def create_majors(conn, majors):\r\n",
                "    \"\"\"\r\n",
                "    Create a new project into the courses table\r\n",
                "    :param conn:\r\n",
                "    :param majors:\r\n",
                "    :return: majors id\r\n",
                "    \"\"\"\r\n",
                "    sql = ''' INSERT INTO majors(name,begin_date,end_date)\r\n",
                "              VALUES(?,?,?) '''\r\n",
                "    cur = conn.cursor()\r\n",
                "    cur.execute(sql, majors)\r\n",
                "    conn.commit()\r\n",
                "    return cur.lastrowid"
            ],
            "outputs": [],
            "metadata": {}
        },
        {
            "cell_type": "code",
            "execution_count": null,
            "source": [
                "def create_altnames(conn, altnames):\r\n",
                "    \"\"\"\r\n",
                "    Create a new project into the courses table\r\n",
                "    :param conn:\r\n",
                "    :param altnames:\r\n",
                "    :return: altnames id\r\n",
                "    \"\"\"\r\n",
                "    sql = ''' INSERT INTO altnames(name,begin_date,end_date)\r\n",
                "              VALUES(?,?,?) '''\r\n",
                "    cur = conn.cursor()\r\n",
                "    cur.execute(sql, altnames)\r\n",
                "    conn.commit()\r\n",
                "    return cur.lastrowid"
            ],
            "outputs": [],
            "metadata": {}
        },
        {
            "cell_type": "code",
            "execution_count": 10,
            "source": [
                "def main():\r\n",
                "    database = r\"../sqlite.db\"\r\n",
                "\r\n",
                "    # create a database connection\r\n",
                "    conn = create_connection(database)\r\n",
                "    with conn:\r\n",
                "        # create a new course\r\n",
                "        course1 = ('09019','Bachelor of Science (Honours) in Information Technology',0,1,0,0,'Ultimo, Sydney');\r\n",
                "        course_id = create_courses(conn,course1)\r\n",
                "\r\n",
                "        # tasks\r\n",
                "        #task_1 = ('Analyze the requirements of the app', 1, 1, project_id, '2015-01-01', '2015-01-02')\r\n",
                "        #task_2 = ('Confirm with user about the top requirements', 1, 1, project_id, '2015-01-03', '2015-01-05')\r\n",
                "\r\n",
                "        # create tasks\r\n",
                "        #create_task(conn, task_1)\r\n",
                "        #create_task(conn, task_2)"
            ],
            "outputs": [],
            "metadata": {}
        },
        {
            "cell_type": "code",
            "execution_count": 11,
            "source": [
                "if __name__ == '__main__':\r\n",
                "    main()"
            ],
            "outputs": [],
            "metadata": {}
        },
        {
            "cell_type": "code",
            "execution_count": null,
            "source": [],
            "outputs": [],
            "metadata": {}
        }
    ],
    "metadata": {
        "orig_nbformat": 4,
        "language_info": {
            "name": "python",
            "version": "3.6.2",
            "mimetype": "text/x-python",
            "codemirror_mode": {
                "name": "ipython",
                "version": 3
            },
            "pygments_lexer": "ipython3",
            "nbconvert_exporter": "python",
            "file_extension": ".py"
        },
        "kernelspec": {
            "name": "python3",
            "display_name": "Python 3.6.2 64-bit"
        },
        "interpreter": {
            "hash": "fa7b7b14724a16ec199d949447e3f17860105dabc6179d01259782646ac6fe93"
        }
    },
    "nbformat": 4,
    "nbformat_minor": 2
}