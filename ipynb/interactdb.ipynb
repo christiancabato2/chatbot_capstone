{
    "cells": [
        {
            "cell_type": "code",
            "execution_count": 2,
            "source": [
                "import sqlite3\r\n",
                "import pandas as pd\r\n",
                "import numpy as np\r\n",
                "from sqlite3 import Error"
            ],
            "outputs": [],
            "metadata": {}
        },
        {
            "cell_type": "code",
            "execution_count": 6,
            "source": [
                "def create_connection(db_file):\r\n",
                "    \"\"\" create a database connection to the SQLite database\r\n",
                "        specified by the db_file\r\n",
                "    :param db_file: database file\r\n",
                "    :return: Connection object or None\r\n",
                "    \"\"\"\r\n",
                "    conn = None\r\n",
                "    try:\r\n",
                "        conn = sqlite3.connect(db_file)\r\n",
                "    except Error as e:\r\n",
                "        print(e)\r\n",
                "\r\n",
                "    return conn"
            ],
            "outputs": [],
            "metadata": {}
        },
        {
            "cell_type": "code",
            "execution_count": 3,
            "source": [
                "def select_all_courses(conn):\r\n",
                "    \"\"\"\r\n",
                "    Query all rows in the tasks table\r\n",
                "    :param conn: the Connection object\r\n",
                "    :return:\r\n",
                "    \"\"\"\r\n",
                "    cur = conn.cursor()\r\n",
                "    cur.execute(\"SELECT * FROM courses\")\r\n",
                "\r\n",
                "    rows = cur.fetchall()\r\n",
                "\r\n",
                "    for row in rows:\r\n",
                "        print(row)"
            ],
            "outputs": [],
            "metadata": {}
        },
        {
            "cell_type": "code",
            "execution_count": 5,
            "source": [
                "# essentially a SELECT * FROM courses;\r\n",
                "#select_all_courses(create_connection(\"uts.db\"))"
            ],
            "outputs": [],
            "metadata": {}
        },
        {
            "cell_type": "code",
            "execution_count": 4,
            "source": [
                "def select_course(conn, value):\r\n",
                "    \"\"\"\r\n",
                "    Query tasks by priority\r\n",
                "    :param conn: the Connection object\r\n",
                "    :param priority:\r\n",
                "    :return:\r\n",
                "    \"\"\"\r\n",
                "    cur = conn.cursor()\r\n",
                "    cur.execute(\"SELECT * FROM courses WHERE course_id LIKE ?\", ('%'+value+'%',))\r\n",
                "    #cur.execute(f\"\"\"SELECT * FROM courses WHERE name='{value}'\"\"\"\") #sample fstring\r\n",
                "\r\n",
                "    rows = cur.fetchall()\r\n",
                "\r\n",
                "    for row in rows:\r\n",
                "        #print(row) #print all rows from database\r\n",
                "        print(f\"UTS offers {row[1]} at {row[6]}.\")"
            ],
            "outputs": [],
            "metadata": {}
        },
        {
            "cell_type": "code",
            "execution_count": 5,
            "source": [
                "def check_type(x):\r\n",
                "    if 'cbk' in x:\r\n",
                "        return \"Directory\"\r\n",
                "    elif 'smj' in x:\r\n",
                "        return \"Directory\"\r\n",
                "    elif 'maj' in x:\r\n",
                "        return \"Directory\"\r\n",
                "    elif 'stm' in x:\r\n",
                "        return \"Directory\"\r\n",
                "    elif 'c0' in x:\r\n",
                "        return \"Course\"\r\n",
                "    elif 'c1' in x:\r\n",
                "        return \"Course\"\r\n",
                "    else:\r\n",
                "        return \"Subject\""
            ],
            "outputs": [],
            "metadata": {}
        },
        {
            "cell_type": "code",
            "execution_count": 6,
            "source": [
                "def get_url(x):\r\n",
                "    head_url = 'https://handbook.uts.edu.au/'\r\n",
                "    if check_type(x) == 'Directory':\r\n",
                "        return head_url + 'directory/' + x + '.html'\r\n",
                "    elif check_type(x) == 'Course':\r\n",
                "        return head_url + 'courses/' + x + '.html'\r\n",
                "    elif check_type(x) == 'Subject':\r\n",
                "        return head_url + 'subjects/' + x + '.html'\r\n",
                "    else:\r\n",
                "        return 'No URL found'"
            ],
            "outputs": [],
            "metadata": {}
        },
        {
            "cell_type": "code",
            "execution_count": 7,
            "source": [
                "def union(conn, value):\r\n",
                "    \"\"\"\r\n",
                "    Query tasks by priority\r\n",
                "    :param conn: the Connection object\r\n",
                "    :param priority:\r\n",
                "    :return:\r\n",
                "    \"\"\"\r\n",
                "    cur = conn.cursor()\r\n",
                "    cur.execute(\"SELECT id, name FROM courses WHERE id LIKE ? UNION SELECT id, name FROM sub_structures WHERE id LIKE ?\", ('%'+value+'%','%'+value+'%',))\r\n",
                "    #cur.execute(f\"\"\"SELECT * FROM courses WHERE name='{value}'\"\"\"\") #sample fstring\r\n",
                "\r\n",
                "    rows = cur.fetchall()\r\n",
                "\r\n",
                "    for row in rows:\r\n",
                "        #print(row) #print all rows from database\r\n",
                "        print(f\"{row[0]} {row[1]}.\")\r\n",
                "        print(get_url(row[0]))\r\n",
                "\r\n",
                "            \r\n"
            ],
            "outputs": [],
            "metadata": {}
        },
        {
            "cell_type": "code",
            "execution_count": 36,
            "source": [
                "def relations(conn, value):\r\n",
                "    cur = conn.cursor()\r\n",
                "    cur.execute(\"SELECT * FROM sub_structures WHERE id IN (SELECT struc_id FROM relations WHERE course_id LIKE ?)\", ('%'+value+'%',))\r\n",
                "    #cur.execute(\"SELECT struc_id FROM relations WHERE course_id LIKE ?\", ('%'+value+'%',))\r\n",
                "    rows = cur.fetchall()\r\n",
                "    print(len(rows))\r\n",
                "    for row in rows:\r\n",
                "        #print(row) #print all rows from database\r\n",
                "        print(f\"{row[0]} {row[1]}.\")"
            ],
            "outputs": [],
            "metadata": {}
        },
        {
            "cell_type": "code",
            "execution_count": 40,
            "source": [
                "def relations2(conn, value):\r\n",
                "    cur = conn.cursor()\r\n",
                "    cur.execute(\"SELECT * FROM courses WHERE id IN (SELECT course_id FROM relations WHERE struc_id LIKE ?)\", ('%'+value+'%',))\r\n",
                "    #cur.execute(\"SELECT struc_id FROM relations WHERE course_id LIKE ?\", ('%'+value+'%',))\r\n",
                "    rows = cur.fetchall()\r\n",
                "    print(len(rows))\r\n",
                "    for row in rows:\r\n",
                "        #print(row) #print all rows from database\r\n",
                "        print(f\"{row[0]} {row[1]}.\")"
            ],
            "outputs": [],
            "metadata": {}
        },
        {
            "cell_type": "code",
            "execution_count": 28,
            "source": [
                "select_course(create_connection(\"../uts.db\"),\"09019\")"
            ],
            "outputs": [
                {
                    "output_type": "stream",
                    "name": "stdout",
                    "text": [
                        "UTS offers Bachelor of Science (Honours) in Information Technology at Ultimo, Sydney.\n"
                    ]
                }
            ],
            "metadata": {}
        },
        {
            "cell_type": "code",
            "execution_count": 77,
            "source": [
                "union(create_connection(\"../uts.db\"),\"437\")"
            ],
            "outputs": [
                {
                    "output_type": "stream",
                    "name": "stdout",
                    "text": [
                        "maj08437 Accounting.\n",
                        "https://handbook.uts.edu.au/directory/maj08437.html\n",
                        "maj09437 Italy.\n",
                        "https://handbook.uts.edu.au/directory/maj09437.html\n"
                    ]
                }
            ],
            "metadata": {}
        },
        {
            "cell_type": "code",
            "execution_count": 39,
            "source": [
                "relations(create_connection(\"../uts.db\"),\"04404\")"
            ],
            "outputs": [
                {
                    "output_type": "stream",
                    "name": "stdout",
                    "text": [
                        "2\n",
                        "cbk91850 Professional-focused choice.\n",
                        "stm91387 Core Studios stream.\n"
                    ]
                }
            ],
            "metadata": {}
        },
        {
            "cell_type": "code",
            "execution_count": 44,
            "source": [
                "relations2(create_connection(\"../uts.db\"),\"31250\")"
            ],
            "outputs": [
                {
                    "output_type": "stream",
                    "name": "stdout",
                    "text": [
                        "4\n",
                        "c09119 Bachelor of Computing Science (Honours).\n",
                        "c10148 Bachelor of Science in Information Technology.\n",
                        "c10219 Bachelor of Business Bachelor of Science in Information Technology.\n",
                        "c10345 Bachelor of Science in Information Technology Diploma in Information Technology Professional Practice.\n"
                    ]
                }
            ],
            "metadata": {}
        },
        {
            "cell_type": "code",
            "execution_count": 39,
            "source": [
                "second = pd.read_csv(\"../data/csv/sub_relations.csv\")\r\n",
                "conn = create_connection(\"../uts.db\")\r\n",
                "cur = conn.cursor()\r\n",
                "cur.execute(\"SELECT id FROM sub_structures\")\r\n",
                "\r\n",
                "rows = cur.fetchall()\r\n",
                "\r\n",
                "for row in rows:\r\n",
                "    #print(row[0])\r\n",
                "    i = 0\r\n",
                "    for index, r in second.iterrows():\r\n",
                "        if r['id'] in row[0]:\r\n",
                "            second['id'][i] = row[0]\r\n",
                "        i = i + 1"
            ],
            "outputs": [],
            "metadata": {}
        },
        {
            "cell_type": "code",
            "execution_count": 42,
            "source": [
                "for row in rows:\r\n",
                "    #print(row[0])\r\n",
                "    i = 0\r\n",
                "    for index, r in second.iterrows():\r\n",
                "        if r['id2'] in row[0]:\r\n",
                "            second['id2'][i] = row[0]\r\n",
                "        i = i + 1"
            ],
            "outputs": [],
            "metadata": {}
        },
        {
            "cell_type": "code",
            "execution_count": 47,
            "source": [
                "second.to_csv(\"../data/csv/sub_relations.csv\", sep=',', index=False)"
            ],
            "outputs": [],
            "metadata": {}
        },
        {
            "cell_type": "code",
            "execution_count": 3,
            "source": [
                "abcd = pd.read_csv(\"../data/csv/sub_relations.csv\")\r\n",
                "abcd"
            ],
            "outputs": [
                {
                    "output_type": "execute_result",
                    "data": {
                        "text/plain": [
                            "            id       id2\n",
                            "0     cbk90417  cbk90418\n",
                            "1     cbk90417  cbk90483\n",
                            "2     cbk90417  cbk90485\n",
                            "3     cbk90417  cbk90486\n",
                            "4     cbk90418  cbk90490\n",
                            "...        ...       ...\n",
                            "2965  smj08184     24738\n",
                            "2966  smj08184     24706\n",
                            "2967  smj10087     21832\n",
                            "2968  smj10087     21012\n",
                            "2969  smj10087     21879\n",
                            "\n",
                            "[2970 rows x 2 columns]"
                        ],
                        "text/html": [
                            "<div>\n",
                            "<style scoped>\n",
                            "    .dataframe tbody tr th:only-of-type {\n",
                            "        vertical-align: middle;\n",
                            "    }\n",
                            "\n",
                            "    .dataframe tbody tr th {\n",
                            "        vertical-align: top;\n",
                            "    }\n",
                            "\n",
                            "    .dataframe thead th {\n",
                            "        text-align: right;\n",
                            "    }\n",
                            "</style>\n",
                            "<table border=\"1\" class=\"dataframe\">\n",
                            "  <thead>\n",
                            "    <tr style=\"text-align: right;\">\n",
                            "      <th></th>\n",
                            "      <th>id</th>\n",
                            "      <th>id2</th>\n",
                            "    </tr>\n",
                            "  </thead>\n",
                            "  <tbody>\n",
                            "    <tr>\n",
                            "      <th>0</th>\n",
                            "      <td>cbk90417</td>\n",
                            "      <td>cbk90418</td>\n",
                            "    </tr>\n",
                            "    <tr>\n",
                            "      <th>1</th>\n",
                            "      <td>cbk90417</td>\n",
                            "      <td>cbk90483</td>\n",
                            "    </tr>\n",
                            "    <tr>\n",
                            "      <th>2</th>\n",
                            "      <td>cbk90417</td>\n",
                            "      <td>cbk90485</td>\n",
                            "    </tr>\n",
                            "    <tr>\n",
                            "      <th>3</th>\n",
                            "      <td>cbk90417</td>\n",
                            "      <td>cbk90486</td>\n",
                            "    </tr>\n",
                            "    <tr>\n",
                            "      <th>4</th>\n",
                            "      <td>cbk90418</td>\n",
                            "      <td>cbk90490</td>\n",
                            "    </tr>\n",
                            "    <tr>\n",
                            "      <th>...</th>\n",
                            "      <td>...</td>\n",
                            "      <td>...</td>\n",
                            "    </tr>\n",
                            "    <tr>\n",
                            "      <th>2965</th>\n",
                            "      <td>smj08184</td>\n",
                            "      <td>24738</td>\n",
                            "    </tr>\n",
                            "    <tr>\n",
                            "      <th>2966</th>\n",
                            "      <td>smj08184</td>\n",
                            "      <td>24706</td>\n",
                            "    </tr>\n",
                            "    <tr>\n",
                            "      <th>2967</th>\n",
                            "      <td>smj10087</td>\n",
                            "      <td>21832</td>\n",
                            "    </tr>\n",
                            "    <tr>\n",
                            "      <th>2968</th>\n",
                            "      <td>smj10087</td>\n",
                            "      <td>21012</td>\n",
                            "    </tr>\n",
                            "    <tr>\n",
                            "      <th>2969</th>\n",
                            "      <td>smj10087</td>\n",
                            "      <td>21879</td>\n",
                            "    </tr>\n",
                            "  </tbody>\n",
                            "</table>\n",
                            "<p>2970 rows × 2 columns</p>\n",
                            "</div>"
                        ]
                    },
                    "metadata": {},
                    "execution_count": 3
                }
            ],
            "metadata": {}
        },
        {
            "cell_type": "code",
            "execution_count": 4,
            "source": [
                "\r\n",
                "i = 0\r\n",
                "for index, r in abcd.iterrows():\r\n",
                "    if '-1' in r['id2']:\r\n",
                "        abcd['id2'][i] = r['id2'].split('-')[0]\r\n",
                "    i = i + 1\r\n"
            ],
            "outputs": [],
            "metadata": {}
        },
        {
            "cell_type": "code",
            "execution_count": 7,
            "source": [
                "\r\n",
                "conn = create_connection(\"../uts.db\")\r\n",
                "cur = conn.cursor()\r\n",
                "cur.execute(\"SELECT id FROM sub_structures\")\r\n",
                "\r\n",
                "rows = cur.fetchall()\r\n",
                "\r\n",
                "j = 0\r\n",
                "test = []\r\n",
                "for row in rows:\r\n",
                "    test.append(row[0].split('-')[0])\r\n",
                "    j = j + 1\r\n",
                "\r\n",
                "for row in test:\r\n",
                "    #print(row[0])\r\n",
                "    i = 0\r\n",
                "    for index, r in abcd.iterrows():\r\n",
                "        if r['id'] in row:\r\n",
                "            abcd['id'][i] = row\r\n",
                "        if r['id2'] in row:\r\n",
                "            abcd['id2'][i] = row\r\n",
                "        i = i + 1\r\n",
                "\r\n",
                "\r\n"
            ],
            "outputs": [],
            "metadata": {}
        },
        {
            "cell_type": "code",
            "execution_count": 8,
            "source": [
                "abcd"
            ],
            "outputs": [
                {
                    "output_type": "execute_result",
                    "data": {
                        "text/plain": [
                            "            id       id2\n",
                            "0     cbk90417  cbk90418\n",
                            "1     cbk90417  cbk90483\n",
                            "2     cbk90417  cbk90485\n",
                            "3     cbk90417  cbk90486\n",
                            "4     cbk90418  cbk90490\n",
                            "...        ...       ...\n",
                            "2965  smj08184     24738\n",
                            "2966  smj08184     24706\n",
                            "2967  smj10087     21832\n",
                            "2968  smj10087     21012\n",
                            "2969  smj10087     21879\n",
                            "\n",
                            "[2970 rows x 2 columns]"
                        ],
                        "text/html": [
                            "<div>\n",
                            "<style scoped>\n",
                            "    .dataframe tbody tr th:only-of-type {\n",
                            "        vertical-align: middle;\n",
                            "    }\n",
                            "\n",
                            "    .dataframe tbody tr th {\n",
                            "        vertical-align: top;\n",
                            "    }\n",
                            "\n",
                            "    .dataframe thead th {\n",
                            "        text-align: right;\n",
                            "    }\n",
                            "</style>\n",
                            "<table border=\"1\" class=\"dataframe\">\n",
                            "  <thead>\n",
                            "    <tr style=\"text-align: right;\">\n",
                            "      <th></th>\n",
                            "      <th>id</th>\n",
                            "      <th>id2</th>\n",
                            "    </tr>\n",
                            "  </thead>\n",
                            "  <tbody>\n",
                            "    <tr>\n",
                            "      <th>0</th>\n",
                            "      <td>cbk90417</td>\n",
                            "      <td>cbk90418</td>\n",
                            "    </tr>\n",
                            "    <tr>\n",
                            "      <th>1</th>\n",
                            "      <td>cbk90417</td>\n",
                            "      <td>cbk90483</td>\n",
                            "    </tr>\n",
                            "    <tr>\n",
                            "      <th>2</th>\n",
                            "      <td>cbk90417</td>\n",
                            "      <td>cbk90485</td>\n",
                            "    </tr>\n",
                            "    <tr>\n",
                            "      <th>3</th>\n",
                            "      <td>cbk90417</td>\n",
                            "      <td>cbk90486</td>\n",
                            "    </tr>\n",
                            "    <tr>\n",
                            "      <th>4</th>\n",
                            "      <td>cbk90418</td>\n",
                            "      <td>cbk90490</td>\n",
                            "    </tr>\n",
                            "    <tr>\n",
                            "      <th>...</th>\n",
                            "      <td>...</td>\n",
                            "      <td>...</td>\n",
                            "    </tr>\n",
                            "    <tr>\n",
                            "      <th>2965</th>\n",
                            "      <td>smj08184</td>\n",
                            "      <td>24738</td>\n",
                            "    </tr>\n",
                            "    <tr>\n",
                            "      <th>2966</th>\n",
                            "      <td>smj08184</td>\n",
                            "      <td>24706</td>\n",
                            "    </tr>\n",
                            "    <tr>\n",
                            "      <th>2967</th>\n",
                            "      <td>smj10087</td>\n",
                            "      <td>21832</td>\n",
                            "    </tr>\n",
                            "    <tr>\n",
                            "      <th>2968</th>\n",
                            "      <td>smj10087</td>\n",
                            "      <td>21012</td>\n",
                            "    </tr>\n",
                            "    <tr>\n",
                            "      <th>2969</th>\n",
                            "      <td>smj10087</td>\n",
                            "      <td>21879</td>\n",
                            "    </tr>\n",
                            "  </tbody>\n",
                            "</table>\n",
                            "<p>2970 rows × 2 columns</p>\n",
                            "</div>"
                        ]
                    },
                    "metadata": {},
                    "execution_count": 8
                }
            ],
            "metadata": {}
        },
        {
            "cell_type": "code",
            "execution_count": 9,
            "source": [
                "abcd.to_csv(\"../data/csv/sub_relations.csv\", sep=',', index=False)"
            ],
            "outputs": [],
            "metadata": {}
        }
    ],
    "metadata": {
        "orig_nbformat": 4,
        "language_info": {
            "name": "python",
            "version": "3.6.2",
            "mimetype": "text/x-python",
            "codemirror_mode": {
                "name": "ipython",
                "version": 3
            },
            "pygments_lexer": "ipython3",
            "nbconvert_exporter": "python",
            "file_extension": ".py"
        },
        "kernelspec": {
            "name": "python3",
            "display_name": "Python 3.6.2 64-bit"
        },
        "interpreter": {
            "hash": "fa7b7b14724a16ec199d949447e3f17860105dabc6179d01259782646ac6fe93"
        }
    },
    "nbformat": 4,
    "nbformat_minor": 2
}