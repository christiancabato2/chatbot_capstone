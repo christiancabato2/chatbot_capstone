{
    "cells": [
        {
            "cell_type": "code",
            "execution_count": 13,
            "source": [
                "import sqlite3\r\n",
                "from sqlite3 import Error"
            ],
            "outputs": [],
            "metadata": {}
        },
        {
            "cell_type": "code",
            "execution_count": 15,
            "source": [
                "def create_connection(db_file):\r\n",
                "    \"\"\" create a database connection to the SQLite database\r\n",
                "        specified by the db_file\r\n",
                "    :param db_file: database file\r\n",
                "    :return: Connection object or None\r\n",
                "    \"\"\"\r\n",
                "    conn = None\r\n",
                "    try:\r\n",
                "        conn = sqlite3.connect(db_file)\r\n",
                "    except Error as e:\r\n",
                "        print(e)\r\n",
                "\r\n",
                "    return conn"
            ],
            "outputs": [],
            "metadata": {}
        },
        {
            "cell_type": "code",
            "execution_count": 16,
            "source": [
                "def select_all_courses(conn):\r\n",
                "    \"\"\"\r\n",
                "    Query all rows in the tasks table\r\n",
                "    :param conn: the Connection object\r\n",
                "    :return:\r\n",
                "    \"\"\"\r\n",
                "    cur = conn.cursor()\r\n",
                "    cur.execute(\"SELECT * FROM courses\")\r\n",
                "\r\n",
                "    rows = cur.fetchall()\r\n",
                "\r\n",
                "    for row in rows:\r\n",
                "        print(row)"
            ],
            "outputs": [],
            "metadata": {}
        },
        {
            "cell_type": "code",
            "execution_count": 5,
            "source": [
                "# essentially a SELECT * FROM courses;\r\n",
                "#select_all_courses(create_connection(\"uts.db\"))"
            ],
            "outputs": [],
            "metadata": {}
        },
        {
            "cell_type": "code",
            "execution_count": 17,
            "source": [
                "def select_course(conn, value):\r\n",
                "    \"\"\"\r\n",
                "    Query tasks by priority\r\n",
                "    :param conn: the Connection object\r\n",
                "    :param priority:\r\n",
                "    :return:\r\n",
                "    \"\"\"\r\n",
                "    cur = conn.cursor()\r\n",
                "    cur.execute(\"SELECT * FROM courses WHERE course_id LIKE ?\", ('%'+value+'%',))\r\n",
                "    #cur.execute(f\"\"\"SELECT * FROM courses WHERE name='{value}'\"\"\"\") #sample fstring\r\n",
                "\r\n",
                "    rows = cur.fetchall()\r\n",
                "\r\n",
                "    for row in rows:\r\n",
                "        #print(row) #print all rows from database\r\n",
                "        print(f\"UTS offers {row[1]} at {row[6]}.\")"
            ],
            "outputs": [],
            "metadata": {}
        },
        {
            "cell_type": "code",
            "execution_count": 70,
            "source": [
                "def check_type(x):\r\n",
                "    if 'cbk' in x:\r\n",
                "        return \"Directory\"\r\n",
                "    elif 'smj' in x:\r\n",
                "        return \"Directory\"\r\n",
                "    elif 'maj' in x:\r\n",
                "        return \"Directory\"\r\n",
                "    elif 'stm' in x:\r\n",
                "        return \"Directory\"\r\n",
                "    elif 'c0' in x:\r\n",
                "        return \"Course\"\r\n",
                "    elif 'c1' in x:\r\n",
                "        return \"Course\"\r\n",
                "    else:\r\n",
                "        return \"Subject\""
            ],
            "outputs": [],
            "metadata": {}
        },
        {
            "cell_type": "code",
            "execution_count": 71,
            "source": [
                "def get_url(x):\r\n",
                "    head_url = 'https://handbook.uts.edu.au/'\r\n",
                "    if check_type(x) == 'Directory':\r\n",
                "        return head_url + 'directory/' + x + '.html'\r\n",
                "    elif check_type(x) == 'Course':\r\n",
                "        return head_url + 'courses/' + x + '.html'\r\n",
                "    elif check_type(x) == 'Subject':\r\n",
                "        return head_url + 'subjects/' + x + '.html'\r\n",
                "    else:\r\n",
                "        return 'No URL found'"
            ],
            "outputs": [],
            "metadata": {}
        },
        {
            "cell_type": "code",
            "execution_count": 72,
            "source": [
                "def union(conn, value):\r\n",
                "    \"\"\"\r\n",
                "    Query tasks by priority\r\n",
                "    :param conn: the Connection object\r\n",
                "    :param priority:\r\n",
                "    :return:\r\n",
                "    \"\"\"\r\n",
                "    cur = conn.cursor()\r\n",
                "    cur.execute(\"SELECT id, name FROM courses WHERE id LIKE ? UNION SELECT id, name FROM sub_structures WHERE id LIKE ?\", ('%'+value+'%','%'+value+'%',))\r\n",
                "    #cur.execute(f\"\"\"SELECT * FROM courses WHERE name='{value}'\"\"\"\") #sample fstring\r\n",
                "\r\n",
                "    rows = cur.fetchall()\r\n",
                "\r\n",
                "    for row in rows:\r\n",
                "        #print(row) #print all rows from database\r\n",
                "        print(f\"{row[0]} {row[1]}.\")\r\n",
                "        print(get_url(row[0]))\r\n",
                "\r\n",
                "            \r\n"
            ],
            "outputs": [],
            "metadata": {}
        },
        {
            "cell_type": "code",
            "execution_count": 28,
            "source": [
                "select_course(create_connection(\"../uts.db\"),\"09019\")"
            ],
            "outputs": [
                {
                    "output_type": "stream",
                    "name": "stdout",
                    "text": [
                        "UTS offers Bachelor of Science (Honours) in Information Technology at Ultimo, Sydney.\n"
                    ]
                }
            ],
            "metadata": {}
        },
        {
            "cell_type": "code",
            "execution_count": 77,
            "source": [
                "union(create_connection(\"../uts.db\"),\"437\")"
            ],
            "outputs": [
                {
                    "output_type": "stream",
                    "name": "stdout",
                    "text": [
                        "maj08437 Accounting.\n",
                        "https://handbook.uts.edu.au/directory/maj08437.html\n",
                        "maj09437 Italy.\n",
                        "https://handbook.uts.edu.au/directory/maj09437.html\n"
                    ]
                }
            ],
            "metadata": {}
        }
    ],
    "metadata": {
        "orig_nbformat": 4,
        "language_info": {
            "name": "python",
            "version": "3.6.2",
            "mimetype": "text/x-python",
            "codemirror_mode": {
                "name": "ipython",
                "version": 3
            },
            "pygments_lexer": "ipython3",
            "nbconvert_exporter": "python",
            "file_extension": ".py"
        },
        "kernelspec": {
            "name": "python3",
            "display_name": "Python 3.6.2 64-bit"
        },
        "interpreter": {
            "hash": "fa7b7b14724a16ec199d949447e3f17860105dabc6179d01259782646ac6fe93"
        }
    },
    "nbformat": 4,
    "nbformat_minor": 2
}